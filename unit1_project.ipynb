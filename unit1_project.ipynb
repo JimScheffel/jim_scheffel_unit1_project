{
 "cells": [
  {
   "cell_type": "markdown",
   "metadata": {},
   "source": [
    "<img src=\"http://imgur.com/1ZcRyrc.png\" style=\"float: left; margin: 20px; height: 55px\">\n",
    "\n",
    "# Project 1: Python Coding Exercises\n",
    "\n",
    "_Authors:  Joseph Nelson (DC)_\n",
    "\n",
    "---"
   ]
  },
  {
   "cell_type": "markdown",
   "metadata": {},
   "source": [
    "The following code challenges are drawn from common exercises used in technical interviews. This project is more about turning ideas into Python code than it is about developing algorithms, so we have provided \"pseudocode\" for the more challenging problems."
   ]
  },
  {
   "cell_type": "markdown",
   "metadata": {},
   "source": [
    "### Challenge 1: Largest Palindrome\n",
    "A palindromic number reads the same both ways. For example, 1234321 is a palindrome. The largest palindrome made from the product of two two-digit numbers is 9009 = 91 × 99. Find the largest palindrome made from the product of two three-digit numbers.\n",
    "\n",
    "Suggested algorithm:\n",
    "\n",
    "```\n",
    "- Initialize a variable `result` to 0.\n",
    "- For each number A 100 through 999:\n",
    "    - For each number B 100 through 999:\n",
    "        - Multiply A and B.\n",
    "        - Turn that product into a string (use `str` as a function).\n",
    "        - Reverse the string (use `my_string[::-1]`).\n",
    "        - If the string and its reverse are the same and the product is\n",
    "        greater than `result`,  set `result` to that new value.\n",
    "```"
   ]
  },
  {
   "cell_type": "code",
   "execution_count": null,
   "metadata": {},
   "outputs": [],
   "source": [
    "result = 0  ## set the variable result to 0\n",
    "\n",
    "for num_a in range (100,1000): ## creates a range of numbers from 100-999\n",
    "    for num_b in range(100,1000): ## adds a second range 100-999 next to above for each number above\n",
    "        product = num_a * num_b  ## multiplies the two lists setting the result to the variable product\n",
    "        forward = str(product) ## coverts product to a string in the variable forward\n",
    "        reverse = forward[::-1] ## reverses the string to the variable reverse\n",
    "        if forward == reverse:  ## checks if forward and reverse are equal\n",
    "            result = product ## reset result to product if the check above is true\n",
    "\n",
    "result ## outputs result\n",
    "         "
   ]
  },
  {
   "cell_type": "markdown",
   "metadata": {},
   "source": [
    "### Challenge 2: Summation of Primes\n",
    "The sum of the primes below 10 is 2 + 3 + 5 + 7 = 17. Find the sum of all the primes below 2,000.\n",
    "\n",
    "Suggested algorithm:\n",
    "\n",
    "```\n",
    "- Initialize an empty list of primes.\n",
    "\n",
    "- For every number A from 2 to 2,000:\n",
    "    - Set a variable `is_prime` to true.\n",
    "    - For every number B in our list of primes:\n",
    "        - If A divided by B gives no remainder, set `is_prime` to false.\n",
    "        - Optional: Use the command `break` to end the loop over primes at this point.\n",
    "    - If `is_prime` is still true, append A to our list of primes.\n",
    "    \n",
    "- Add up the primes.\n",
    "```"
   ]
  },
  {
   "cell_type": "code",
   "execution_count": null,
   "metadata": {},
   "outputs": [],
   "source": [
    "primes = []  ## creates an empty list called primes\n",
    "total = 0 ## set the variable total to zero\n",
    "\n",
    "for num_a in range (2,2000): ## creates a range of numbers from 2-1999\n",
    "    is_prime = True ## set the variable is_prime to boolean value True\n",
    "    if num_a == 2:\n",
    "        primes.append(num_a) ## seeds the first prime number 2 to the empty list\n",
    "    for prime in primes: \n",
    "        if num_a % prime == 0: ## use the modulo to check for a remainder against the list of primes\n",
    "            is_prime = False ## if there is no remainder set the boolean to false\n",
    "    if is_prime == True: \n",
    "        primes.append(num_a) ## if the boolean is still true append the number to the list of primes\n",
    "\n",
    "for num in primes:\n",
    "    total += num ## iterate through the list and add each of the prime numbers to the total\n",
    "\n",
    "total ## outputs total\n"
   ]
  },
  {
   "cell_type": "markdown",
   "metadata": {},
   "source": [
    "### Challenge 3: Multiples of 3 and 5\n",
    "If we list all of the natural numbers below 10 that are multiples of 3 or 5, we get 3, 5, 6, and 9. The sum of these multiples is 23. Find the sum of all the multiples of 3 and 5 below 1,000."
   ]
  },
  {
   "cell_type": "code",
   "execution_count": null,
   "metadata": {},
   "outputs": [],
   "source": [
    "numbers_that_passed = []  ## create a blank list to hold numbers that pass the check\n",
    "total = 0  ## set a variable to sum the number from the list above\n",
    "\n",
    "for numbers_to_check in range (1,1000): ## creates a range of numbers from 1-999\n",
    "    if numbers_to_check % 3 == 0 and numbers_to_check % 5 == 0: ## checks if number is both a multiple of 3 and 5\n",
    "        numbers_that_passed.append(numbers_to_check) ## appends the number to the list if it passes the check\n",
    "\n",
    "for num in numbers_that_passed:\n",
    "    total += num  ## iterates through the list and adds each number from numbers_that_ passed to the total\n",
    "\n",
    "total ## outputs total"
   ]
  },
  {
   "cell_type": "markdown",
   "metadata": {},
   "source": [
    "### Challenge 4: String Compressor\n",
    "Write a function to perform basic string compression using the counts of repeated characters. (This is called run-length encoding.) For example, the string \"aabcccccaaa\" would become a2b1c5a3. If the “compressed” string would not become smaller than the original string, your method should return the original string. You can assume the string has only uppercase and lowercase letters (a–z). Specify whether your solution is case sensitive or case insensitive and what you would need to change to make it the other.\n",
    "\n",
    "Suggested algorithm:\n",
    "\n",
    "```\n",
    "- Initialize an empty string to hold the compressed version of the input string\n",
    "- Initialize an empty string to hold the character we are currently tallying up\n",
    "- Initialize a counter variable to 0\n",
    "\n",
    "- For each letter in the input string:\n",
    "    - If that letter matches the letter we are counting, increment the counter by 1\n",
    "    - Otherwise:\n",
    "        - If the counter value is greater than 0, add the letter we have been counting\n",
    "        and its count to our compressed string\n",
    "        - Update the letter we are counting\n",
    "        - Set the counter to 1\n",
    "\n",
    "- Append the last letter we were counting and its count to our compressed string\n",
    "```\n",
    "\n",
    "**Suggestion:** Test your function on a few sample inputs. Try to come up with \"edge cases\" that might make it fail (e.g. empty strings, strings with all the same character, strings containing non-alphabetic characters, etc.)"
   ]
  },
  {
   "cell_type": "code",
   "execution_count": null,
   "metadata": {},
   "outputs": [],
   "source": [
    "def compress(my_string): ## defines the function compress to take a string substituted for my_string\n",
    "    compressed = ''  ## sets the variable compressed to a blank string\n",
    "    char = '' ## sets the variable char to a blank string\n",
    "    counter = 0  ## sets counter to zero\n",
    "    for letter in my_string.lower(): ## selects the element in my_string - .lower() make this case insensitive remove to make case sensitive\n",
    "        if counter == 0:  \n",
    "            char = letter ## set char equal to the first letter in the string when counter equals zero\n",
    "        if letter == char:  \n",
    "            counter += 1  ## counts the number of sequential letters in the string equal to char and holds the count in counter\n",
    "        else:\n",
    "            if counter > 0: ## when letter is not equal to char and counter is greater than zero\n",
    "                compressed += char + str(counter) ## add letter stored in char and number stored in counter as a string to compressed\n",
    "                char = letter ## set char to the letter caused it to be not equal above\n",
    "                counter = 1 ## reset the counter to one\n",
    "    compressed += char + str(counter) ## adds the last char and counter as a string to compressed\n",
    "    if len(compressed) < len(my_string): ## checks if compressed is less than my_string\n",
    "        print(compressed) ## if True print compressed\n",
    "    else:\n",
    "        print(my_string)  ## otherwise print my_string\n",
    "        \n",
    "compress('aaaagggddd')\n",
    "compress('  dddd222aaa33333')\n",
    "compress('ffFfff')"
   ]
  },
  {
   "cell_type": "markdown",
   "metadata": {},
   "source": [
    "### Challenge 5: FizzBuzz\n",
    "Write a program that prints all of the numbers from 1 to 100. For multiples of 3, instead of the number, print \"Fizz;\" for multiples of 5, print \"Buzz.\" For numbers that are multiples of both 3 and 5, print \"FizzBuzz.\""
   ]
  },
  {
   "cell_type": "code",
   "execution_count": null,
   "metadata": {},
   "outputs": [],
   "source": [
    "for number in range (1,101):  ## creates a range from 1-100\n",
    "    if number % 3 == 0 and number % 5 == 0: ## checks if the number is a multiple of both 3 and 5\n",
    "        print('FizzBuzz') ## prints FizzBuzz if True or else goes to the next step\n",
    "    elif number % 5 == 0: ## checks if the number is a multiple of 5\n",
    "        print('Buzz')  ## prints Buzz if True or else goes to the next step\n",
    "    elif number % 3 == 0:  ## checks if the number is a multiple of 3\n",
    "        print('Fizz') ## prints Fizz if True or else goes to the next step\n",
    "    else:\n",
    "        print(number)  ## prints the number if none of the above were True"
   ]
  }
 ],
 "metadata": {
  "anaconda-cloud": {},
  "kernelspec": {
   "display_name": "Python 3",
   "language": "python",
   "name": "python3"
  },
  "language_info": {
   "codemirror_mode": {
    "name": "ipython",
    "version": 3
   },
   "file_extension": ".py",
   "mimetype": "text/x-python",
   "name": "python",
   "nbconvert_exporter": "python",
   "pygments_lexer": "ipython3",
   "version": "3.7.3"
  }
 },
 "nbformat": 4,
 "nbformat_minor": 2
}
